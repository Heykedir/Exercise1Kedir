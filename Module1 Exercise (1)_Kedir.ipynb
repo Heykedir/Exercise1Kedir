{
 "cells": [
  {
   "cell_type": "markdown",
   "metadata": {},
   "source": [
    "## Questions"
   ]
  },
  {
   "cell_type": "markdown",
   "metadata": {},
   "source": [
    "1. What is a hardware?"
   ]
  },
  {
   "cell_type": "markdown",
   "metadata": {},
   "source": [
    "It represents the physical component of a computer such as monitor, mouse, etc."
   ]
  },
  {
   "cell_type": "markdown",
   "metadata": {},
   "source": [
    "2. What is a software?"
   ]
  },
  {
   "cell_type": "markdown",
   "metadata": {},
   "source": [
    "It represents program(s) that performs diffrent tasks on a computer system. For example, a program code which is excuted by CPU."
   ]
  },
  {
   "cell_type": "markdown",
   "metadata": {},
   "source": [
    "3. Convert 10011001 to a decimal number"
   ]
  },
  {
   "cell_type": "markdown",
   "metadata": {},
   "source": [
    "(10**7) X 1=10,000,000\n",
    "(10**4) x 1=10,000\n",
    "(10**3) x 1=1000\n",
    "(10**1) x 1=1\n",
    "           =10,011,001"
   ]
  },
  {
   "cell_type": "markdown",
   "metadata": {},
   "source": [
    "4. Convert 11101100 to a decimal number"
   ]
  },
  {
   "cell_type": "markdown",
   "metadata": {},
   "source": [
    "(10**7) X 1=10,000,000\n",
    "(10**6) x 1=1,000,000\n",
    "(10**5) x 1=100,000\n",
    "(10**3) x 1=1000\n",
    "(10**2) x 1=100\n",
    "           = 11,101,100"
   ]
  },
  {
   "cell_type": "markdown",
   "metadata": {},
   "source": [
    "5. Decode this secret message:\n",
    "01001100 01101111 01100111 01101001 01100011"
   ]
  },
  {
   "cell_type": "markdown",
   "metadata": {},
   "source": [
    "01001100       01101111       01100111        01101001         01100011\n",
    "2**6 X 1=64    2**6 x 1=64    2**6 x 1=64     2**6 x 1=64      2**6 x 1=64\n",
    "2**3 x 1=8     2**5 x 1=32    2**5 x 1=32     2**5 x 1=32      2**5 x 1=32\n",
    "2**2 x 1=4     2**3 x 1=8     2**2 x 1=4      2**3 x 1=8       2**1 x 1=2\n",
    "        =76    2**2 x 1=4     2**1 x 1=2      2**0 x 1=1       2**0 x 1=1\n",
    "               2**1 x 1=2     2**0 x 1=1              =105             =99\n",
    "               2**0 x 1=1             =103\n",
    "                       =111\n",
    "  76    111    103  105  99\n",
    "  L      O      G    I   C\n",
    "  LogIC"
   ]
  },
  {
   "cell_type": "markdown",
   "metadata": {},
   "source": [
    "6. Identify and explain stages of Programming."
   ]
  },
  {
   "cell_type": "markdown",
   "metadata": {},
   "source": [
    "Stages of Programing are\n",
    "  1. Analyze- a. Identity\n",
    "              b. Divide\n",
    "              c. Regroup\n",
    "              \n",
    "  2. Plan - a. IPO\n",
    "            b. Algorithm\n",
    "            \n",
    "  3. Code - Programing Language\n",
    "  \n",
    "  4. Test - a. Unit test\n",
    "            b. System test\n",
    "            c.Integration test\n",
    "         \n",
    "  5. Maintenance - a. Bug fix\n",
    "                   b. Enhancement\n",
    "                   c. Document\n",
    "                   "
   ]
  },
  {
   "cell_type": "markdown",
   "metadata": {},
   "source": [
    "7. You need to write a program to compute total sales amount when sales tax is 5%. Identify IPO (inpt, process, output) for this program."
   ]
  },
  {
   "cell_type": "markdown",
   "metadata": {},
   "source": [
    " Input                        Process                                  Output\n",
    "  Amount, sales tax          Amount + (Amount x sales tax(5%))        Total Sales "
   ]
  },
  {
   "cell_type": "markdown",
   "metadata": {},
   "source": [
    "8. Identify IPO for converting liters to US gallons."
   ]
  },
  {
   "cell_type": "markdown",
   "metadata": {},
   "source": [
    "Input         Process                Output\n",
    "Liters(L)      L X 0.264 Gal/L       Gallons(Gal)"
   ]
  },
  {
   "cell_type": "markdown",
   "metadata": {},
   "source": [
    "9. Identify IPO for computing a worker's pay. What information/data do you need?"
   ]
  },
  {
   "cell_type": "markdown",
   "metadata": {},
   "source": [
    " Information\n",
    "  Input                                    Process                                          Output\n",
    " - Gross Annual salery(GAS)               Gross Per Pay Period(GPPP)= GAS/PP               Net Pay\n",
    " - Pay periods(PP)                        Payroll Tax =GPPP X  %of taxs\n",
    " - Deductions                             Net Pay= GPPP -(Payroll tax + Deduction)\n",
    " - Payroll tax(Federal and State tax)"
   ]
  }
 ],
 "metadata": {
  "kernelspec": {
   "display_name": "Python 3 (ipykernel)",
   "language": "python",
   "name": "python3"
  },
  "language_info": {
   "codemirror_mode": {
    "name": "ipython",
    "version": 3
   },
   "file_extension": ".py",
   "mimetype": "text/x-python",
   "name": "python",
   "nbconvert_exporter": "python",
   "pygments_lexer": "ipython3",
   "version": "3.9.7"
  }
 },
 "nbformat": 4,
 "nbformat_minor": 4
}
